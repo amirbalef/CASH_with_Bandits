{
 "cells": [
  {
   "cell_type": "code",
   "execution_count": null,
   "metadata": {},
   "outputs": [],
   "source": [
    "import os\n",
    "import numpy as np \n",
    "import pandas as pd"
   ]
  },
  {
   "cell_type": "code",
   "execution_count": null,
   "metadata": {},
   "outputs": [],
   "source": [
    "res_dir = \"./\"\n",
    "list_files = os.listdir(res_dir)"
   ]
  },
  {
   "cell_type": "code",
   "execution_count": null,
   "metadata": {},
   "outputs": [],
   "source": [
    "list_files"
   ]
  },
  {
   "cell_type": "code",
   "execution_count": null,
   "metadata": {},
   "outputs": [],
   "source": [
    "df = pd.read_csv(res_dir + list_files[0])\n",
    "\n",
    "print(df)"
   ]
  },
  {
   "cell_type": "code",
   "execution_count": null,
   "metadata": {},
   "outputs": [],
   "source": [
    "columns_list = [\n",
    "    \"data_id\",\n",
    "    \"classifier\",\n",
    "    \"seed\",\n",
    "    \"train_valid_size\",\n",
    "    \"iteration\",\n",
    "    \"valid\",\n",
    "    \"optimizer\",\n",
    "]\n",
    "df = df[columns_list]"
   ]
  },
  {
   "cell_type": "code",
   "execution_count": null,
   "metadata": {},
   "outputs": [],
   "source": [
    "columns_list = [\n",
    "    \"instance\",\n",
    "    \"repetition\",\n",
    "    \"arm_index\",\n",
    "    \"iteration\",\n",
    "    \"loss\",\n",
    "    \"optimizer\",\n",
    "    \"classifier\",\n",
    "]\n",
    "\n",
    "df_new = pd.DataFrame(columns=columns_list)\n",
    "\n",
    "df_new[\"instance\"] = df[\"data_id\"].copy()\n",
    "df_new[\"classifier\"] = df[\"classifier\"].copy()\n",
    "df_new[\"optimizer\"] = df[\"optimizer\"].copy()\n",
    "df_new[\"loss\"] = df[\"valid\"].copy()\n",
    "df_new[\"iteration\"] = df[\"iteration\"].copy()"
   ]
  },
  {
   "cell_type": "code",
   "execution_count": null,
   "metadata": {},
   "outputs": [],
   "source": [
    "new_col = (df[\"seed\"].astype(str) + df[\"train_valid_size\"].astype(str)).copy()\n",
    "new_col.replace(\n",
    "    to_replace=new_col.unique(), value=list(range(len(new_col.unique()))), inplace=True\n",
    ")\n",
    "df_new[\"repetition\"] = new_col\n",
    "\n",
    "\n",
    "col = df[\"classifier\"].copy()\n",
    "col.replace(\n",
    "    to_replace=col.unique(), value=list(range(len(col.unique()))), inplace=True\n",
    ")\n",
    "df_new[\"arm_index\"] = col.copy()"
   ]
  },
  {
   "cell_type": "code",
   "execution_count": null,
   "metadata": {},
   "outputs": [],
   "source": [
    "df_new[\"arm_index\"].unique()"
   ]
  },
  {
   "cell_type": "code",
   "execution_count": null,
   "metadata": {},
   "outputs": [],
   "source": [
    "df_new.to_csv(\"Reshuffling.csv\", index=False)"
   ]
  }
 ],
 "metadata": {
  "kernelspec": {
   "display_name": "Python 3 (ipykernel)",
   "language": "python",
   "name": "python3"
  },
  "language_info": {
   "codemirror_mode": {
    "name": "ipython",
    "version": 3
   },
   "file_extension": ".py",
   "mimetype": "text/x-python",
   "name": "python",
   "nbconvert_exporter": "python",
   "pygments_lexer": "ipython3",
   "version": "3.10.13"
  }
 },
 "nbformat": 4,
 "nbformat_minor": 2
}
